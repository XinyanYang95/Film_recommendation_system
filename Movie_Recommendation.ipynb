{
 "cells": [
  {
   "cell_type": "markdown",
   "metadata": {},
   "source": [
    "Authors: Xinyan Yang, Fangjun Zhu"
   ]
  },
  {
   "cell_type": "markdown",
   "metadata": {},
   "source": [
    "Date: 12/11/2019"
   ]
  },
  {
   "cell_type": "markdown",
   "metadata": {},
   "source": [
    "# 1 Introduction"
   ]
  },
  {
   "cell_type": "markdown",
   "metadata": {},
   "source": [
    "## Collaborative filtering system"
   ]
  },
  {
   "cell_type": "markdown",
   "metadata": {},
   "source": [
    "Typically, the workflow of a collaborative filtering movie recommendation system is:\n",
    "1. Users express their preferences towards different types of movies by rating a series of films on a scale of 1-5 with 5 being the most favorable rating.<br>\n",
    "2. The system matches this user's ratings against other users' and finds the people with most \"similar\" tastes of movies.<br>\n",
    "3. With similar users, the system recommends movies that the similar users have rated highly but not yet being rated by this user.<sup>[1]"
   ]
  },
  {
   "cell_type": "markdown",
   "metadata": {},
   "source": [
    "## Goals"
   ]
  },
  {
   "cell_type": "markdown",
   "metadata": {},
   "source": [
    "1. Build a collaborative filtering movie recommendation system.<br>\n",
    "2. Develop a python GUI application by Tkinter to recommend movies for users via their ratings towards some randomly selected movies. "
   ]
  },
  {
   "cell_type": "markdown",
   "metadata": {},
   "source": [
    "# 2 Recommendation System"
   ]
  },
  {
   "cell_type": "markdown",
   "metadata": {},
   "source": [
    "## Setup"
   ]
  },
  {
   "cell_type": "code",
   "execution_count": 1,
   "metadata": {},
   "outputs": [],
   "source": [
    "import math\n",
    "import pandas as pd\n",
    "import numpy as np\n",
    "import scipy.sparse as sp\n",
    "import scipy.linalg as la\n",
    "import time\n",
    "import random"
   ]
  },
  {
   "cell_type": "markdown",
   "metadata": {},
   "source": [
    "## Prepare data"
   ]
  },
  {
   "cell_type": "markdown",
   "metadata": {},
   "source": [
    "The movie rating dataset, ml-latest-small, is collected from MovieLens https://grouplens.org/datasets/movielens/. This dataset shows a 5-star rating and tagging activity of a group of users. It includes 100,000 ratings and 3,600 tag applications applied to 9,000 movies by 600 users. Here, only the movies and ratings are of interest. There are some basic rules in the data preparation process:\n",
    "* The original rating data is read to a $N$ x $P$ matrix $X$. It is the rating activity of $P$ users with respect to $N$ movies. Assume there are $K$ fundamental factors that each user's preference towards the movies can be explained by. \n",
    "*  The data is split into ten folds. Nine folds are for training and the remaining one fold is for testing.\n",
    "* Default value 0 is given to any entry without a rating in matrix $X$."
   ]
  },
  {
   "cell_type": "markdown",
   "metadata": {},
   "source": [
    "### Fetch the data"
   ]
  },
  {
   "cell_type": "markdown",
   "metadata": {},
   "source": [
    "Download data from MovieLens website and create dataframes for movies and ratings."
   ]
  },
  {
   "cell_type": "code",
   "execution_count": 2,
   "metadata": {},
   "outputs": [
    {
     "data": {
      "text/html": [
       "<div>\n",
       "<style scoped>\n",
       "    .dataframe tbody tr th:only-of-type {\n",
       "        vertical-align: middle;\n",
       "    }\n",
       "\n",
       "    .dataframe tbody tr th {\n",
       "        vertical-align: top;\n",
       "    }\n",
       "\n",
       "    .dataframe thead th {\n",
       "        text-align: right;\n",
       "    }\n",
       "</style>\n",
       "<table border=\"1\" class=\"dataframe\">\n",
       "  <thead>\n",
       "    <tr style=\"text-align: right;\">\n",
       "      <th></th>\n",
       "      <th>movieId</th>\n",
       "      <th>title</th>\n",
       "      <th>genres</th>\n",
       "    </tr>\n",
       "  </thead>\n",
       "  <tbody>\n",
       "    <tr>\n",
       "      <th>0</th>\n",
       "      <td>1</td>\n",
       "      <td>Toy Story (1995)</td>\n",
       "      <td>Adventure|Animation|Children|Comedy|Fantasy</td>\n",
       "    </tr>\n",
       "    <tr>\n",
       "      <th>1</th>\n",
       "      <td>2</td>\n",
       "      <td>Jumanji (1995)</td>\n",
       "      <td>Adventure|Children|Fantasy</td>\n",
       "    </tr>\n",
       "    <tr>\n",
       "      <th>2</th>\n",
       "      <td>3</td>\n",
       "      <td>Grumpier Old Men (1995)</td>\n",
       "      <td>Comedy|Romance</td>\n",
       "    </tr>\n",
       "    <tr>\n",
       "      <th>3</th>\n",
       "      <td>4</td>\n",
       "      <td>Waiting to Exhale (1995)</td>\n",
       "      <td>Comedy|Drama|Romance</td>\n",
       "    </tr>\n",
       "    <tr>\n",
       "      <th>4</th>\n",
       "      <td>5</td>\n",
       "      <td>Father of the Bride Part II (1995)</td>\n",
       "      <td>Comedy</td>\n",
       "    </tr>\n",
       "  </tbody>\n",
       "</table>\n",
       "</div>"
      ],
      "text/plain": [
       "   movieId                               title  \\\n",
       "0        1                    Toy Story (1995)   \n",
       "1        2                      Jumanji (1995)   \n",
       "2        3             Grumpier Old Men (1995)   \n",
       "3        4            Waiting to Exhale (1995)   \n",
       "4        5  Father of the Bride Part II (1995)   \n",
       "\n",
       "                                        genres  \n",
       "0  Adventure|Animation|Children|Comedy|Fantasy  \n",
       "1                   Adventure|Children|Fantasy  \n",
       "2                               Comedy|Romance  \n",
       "3                         Comedy|Drama|Romance  \n",
       "4                                       Comedy  "
      ]
     },
     "execution_count": 2,
     "metadata": {},
     "output_type": "execute_result"
    }
   ],
   "source": [
    "# save movies data to dataframe\n",
    "movies = pd.read_csv(\"ml-latest-small/movies.csv\")\n",
    "movies.head()"
   ]
  },
  {
   "cell_type": "code",
   "execution_count": 3,
   "metadata": {},
   "outputs": [
    {
     "data": {
      "text/html": [
       "<div>\n",
       "<style scoped>\n",
       "    .dataframe tbody tr th:only-of-type {\n",
       "        vertical-align: middle;\n",
       "    }\n",
       "\n",
       "    .dataframe tbody tr th {\n",
       "        vertical-align: top;\n",
       "    }\n",
       "\n",
       "    .dataframe thead th {\n",
       "        text-align: right;\n",
       "    }\n",
       "</style>\n",
       "<table border=\"1\" class=\"dataframe\">\n",
       "  <thead>\n",
       "    <tr style=\"text-align: right;\">\n",
       "      <th></th>\n",
       "      <th>userId</th>\n",
       "      <th>movieId</th>\n",
       "      <th>rating</th>\n",
       "      <th>timestamp</th>\n",
       "    </tr>\n",
       "  </thead>\n",
       "  <tbody>\n",
       "    <tr>\n",
       "      <th>0</th>\n",
       "      <td>1</td>\n",
       "      <td>1</td>\n",
       "      <td>4.0</td>\n",
       "      <td>964982703</td>\n",
       "    </tr>\n",
       "    <tr>\n",
       "      <th>1</th>\n",
       "      <td>1</td>\n",
       "      <td>3</td>\n",
       "      <td>4.0</td>\n",
       "      <td>964981247</td>\n",
       "    </tr>\n",
       "    <tr>\n",
       "      <th>2</th>\n",
       "      <td>1</td>\n",
       "      <td>6</td>\n",
       "      <td>4.0</td>\n",
       "      <td>964982224</td>\n",
       "    </tr>\n",
       "    <tr>\n",
       "      <th>3</th>\n",
       "      <td>1</td>\n",
       "      <td>47</td>\n",
       "      <td>5.0</td>\n",
       "      <td>964983815</td>\n",
       "    </tr>\n",
       "    <tr>\n",
       "      <th>4</th>\n",
       "      <td>1</td>\n",
       "      <td>50</td>\n",
       "      <td>5.0</td>\n",
       "      <td>964982931</td>\n",
       "    </tr>\n",
       "  </tbody>\n",
       "</table>\n",
       "</div>"
      ],
      "text/plain": [
       "   userId  movieId  rating  timestamp\n",
       "0       1        1     4.0  964982703\n",
       "1       1        3     4.0  964981247\n",
       "2       1        6     4.0  964982224\n",
       "3       1       47     5.0  964983815\n",
       "4       1       50     5.0  964982931"
      ]
     },
     "execution_count": 3,
     "metadata": {},
     "output_type": "execute_result"
    }
   ],
   "source": [
    "# save ratings data to dataframe\n",
    "ratings = pd.read_csv(\"ml-latest-small/ratings.csv\")\n",
    "ratings.head()"
   ]
  },
  {
   "cell_type": "markdown",
   "metadata": {},
   "source": [
    "### Process the data"
   ]
  },
  {
   "cell_type": "markdown",
   "metadata": {},
   "source": [
    "Transform the movies and ratings dataframes into 2D arrays (rating matrix). Then split the dataset into two sets, one for training and the other for testing."
   ]
  },
  {
   "cell_type": "code",
   "execution_count": 4,
   "metadata": {},
   "outputs": [],
   "source": [
    "def split(movies, ratings, k_fold):\n",
    "    \"\"\"Return training and testing data as 2D arrays by splitting the rating matrix created from the dataframes,\n",
    "       as well as a list of movie names.\n",
    " \n",
    "    movies -- dataframe of movies\n",
    "    ratings -- dataframe of ratings\n",
    "    \"\"\"\n",
    "    # each column in the rating matrix is one-user ratings towards different movies\n",
    "    # each row in the rating matrix is one-movie ratings by different users \n",
    "    # since movieIDs are from a much larger movie pool, they are not continuous. \n",
    "    # here use continuous indices of movies dataframe to represent movies. \n",
    "    col = ratings['userId'].apply(lambda x: x-1).values\n",
    "    new_movideID = ratings['movieId'].unique()\n",
    "    row = ratings['movieId'].apply(lambda x: np.where(new_movideID == x)[0][0]).values\n",
    "    data = ratings['rating'].values\n",
    "\n",
    "    # randomly split and get index sets for training and testing set.\n",
    "    seq = np.arange(len(col))\n",
    "    np.random.shuffle(seq)\n",
    "    idx_train = seq[:len(seq)*(k_fold-1)//k_fold]\n",
    "    idx_test = seq[len(seq)*(k_fold-1)//k_fold:]\n",
    "    # training\n",
    "    col_train = col[idx_train]\n",
    "    row_train = row[idx_train]\n",
    "    data_train = data[idx_train]\n",
    "    # testing\n",
    "    col_test = col[idx_test]\n",
    "    row_test = row[idx_test]\n",
    "    data_test = data[idx_test]\n",
    "\n",
    "    # create sparse matrix\n",
    "    X_train = sp.coo_matrix((data_train,(row_train, col_train)), \n",
    "                            shape=(len(new_movideID), len(ratings['userId'].unique()))).toarray()\n",
    "    X_test = sp.coo_matrix((data_test,(row_test, col_test)), \n",
    "                           shape=(len(new_movideID), len(ratings['userId'].unique()))).toarray()\n",
    "\n",
    "    temp = movies['movieId'].values\n",
    "    movie_name = [movies.iloc[np.where(temp==mID)[0][0]]['title'] for mID in new_movideID]\n",
    "    \n",
    "    return X_train, X_test, movie_name"
   ]
  },
  {
   "cell_type": "code",
   "execution_count": 5,
   "metadata": {},
   "outputs": [
    {
     "name": "stdout",
     "output_type": "stream",
     "text": [
      "The shape of rating matrix with training data: (9724, 610).\n",
      "The shape of rating matrix with testing data: (9724, 610).\n",
      "['Toy Story (1995)', 'Grumpier Old Men (1995)', 'Heat (1995)', 'Seven (a.k.a. Se7en) (1995)']\n"
     ]
    }
   ],
   "source": [
    "X_train, X_test, movie_name = split(movies, ratings, 10)\n",
    "print('The shape of rating matrix with training data: {0}.'.format(np.shape(X_train)))\n",
    "print('The shape of rating matrix with testing data: {0}.'.format(np.shape(X_test))), \n",
    "print(movie_name[:4])"
   ]
  },
  {
   "cell_type": "markdown",
   "metadata": {},
   "source": [
    "## Complete rating matrix "
   ]
  },
  {
   "cell_type": "markdown",
   "metadata": {},
   "source": [
    "The matrix from the ml-latest-small dataset is sparsely populated, since an individual user has only rated a few of the movies available. Completing the rating maxtrix is equivalent to determining $C$ and $W$ such that:\n",
    "\n",
    "$$CW{\\approx}X$$"
   ]
  },
  {
   "cell_type": "markdown",
   "metadata": {},
   "source": [
    "The squares cost function of this matrix factorization problem with $l_2$-regularizers:\n",
    "\n",
    "$$\\sum_{(i,j)\\in \\Omega}(c^iw_j - x_{ij})^2 + \\lambda ||C||_2^2 + \\lambda ||W||_2^2$$"
   ]
  },
  {
   "cell_type": "markdown",
   "metadata": {},
   "source": [
    "First, define an error calculation function."
   ]
  },
  {
   "cell_type": "code",
   "execution_count": 6,
   "metadata": {},
   "outputs": [],
   "source": [
    "def error(X, C, W):\n",
    "    \"\"\"Return the mean squared error of the rating matrix X and its estimated values.\n",
    " \n",
    "    X -- N x P observed rating matrix (2D array)\n",
    "    C -- N x K matrix (2D array) from matrix factorization\n",
    "    W -- K x P matrix (2D array) from matrix factorization\n",
    "    \"\"\"\n",
    "    flag = (X > 0)\n",
    "    flag[flag == True] = 1\n",
    "    flag[flag == False] = 0\n",
    "    flag = flag.astype(np.float64)\n",
    "    MSE = np.mean((flag * (X - np.matmul(C, W)))**2)\n",
    "    \n",
    "    return MSE"
   ]
  },
  {
   "cell_type": "markdown",
   "metadata": {},
   "source": [
    "Complete the matrix by alternatively optimizing the cost function."
   ]
  },
  {
   "cell_type": "code",
   "execution_count": 7,
   "metadata": {},
   "outputs": [],
   "source": [
    "def matrix_complete(X_train, X_test, k, lam=10, maxiter=50, count_time=True, print_iter=True):\n",
    "    \"\"\"Return the estimated rating matrix from the observed sparsely populated rating matrix X.\n",
    " \n",
    "    X_train -- N x P observed rating matrix\n",
    "    X_test -- N x P observed testing matrix\n",
    "    k -- the assumed numnber of fundamental factors\n",
    "    lam -- the parameter for the two l2-regularizers\n",
    "    maxiter -- maximum number of iterations\n",
    "    count_time -- (boolean) decide to print elapsed time or not\n",
    "    \"\"\"\n",
    "    \n",
    "    X = X_train.copy()\n",
    "    t_start = time.time()\n",
    "    \n",
    "    # flag entires with no rating values\n",
    "    flag = (X > 0)\n",
    "    flag[flag == True] = 1\n",
    "    flag[flag == False] = 0\n",
    "    flag = flag.astype(np.float64)\n",
    "\n",
    "    # get matrix dimension info\n",
    "    N = X.shape[0]\n",
    "    P = X.shape[1]\n",
    "\n",
    "    # initialize C and W\n",
    "    W_init = np.ones((k, P))\n",
    "    C_init = np.ones((N, k))\n",
    "    C = C_init.copy()\n",
    "    W = W_init.copy()\n",
    "\n",
    "    for iter in range(maxiter):\n",
    "\n",
    "        # enumerate every row in flag matrix (2D array) to update W\n",
    "        for i, flag_i in enumerate(flag.T):\n",
    "            # set C value to zero if there is no rating\n",
    "            zero_idx = np.where(flag_i==0)[0]\n",
    "            C_zero = C.copy()\n",
    "            C_zero[zero_idx, :]=0        \n",
    "            L = np.linalg.cholesky( np.matmul(C_zero.T, C) + np.diag(lam*np.ones(k)))\n",
    "            temp = np.linalg.solve(L, np.matmul(C_zero.T, X[:,i]))\n",
    "            W[:,i] = np.linalg.solve(L.T, temp)\n",
    "\n",
    "        # enumerate every col in flag matrix (2D array) to update C\n",
    "        for j, flag_j in enumerate(flag):\n",
    "            # set WT value to zero if there is no rating\n",
    "            zero_idx = np.where(flag_j==0)[0]\n",
    "            W_zero = W.copy()\n",
    "            W_zero[:,zero_idx]=0\n",
    "            L = np.linalg.cholesky( np.matmul(W_zero, W.T) + np.diag(lam*np.ones(k)) )\n",
    "            temp = np.linalg.solve(L, np.matmul(W_zero, X[j,:]))\n",
    "            C[j] = np.linalg.solve(L.T, temp)  \n",
    "    \n",
    "        if (iter+1)%10 == 0 and print_iter:\n",
    "            print('Iteration {0}: Training MSE: {1:.4f}, Testing MSE: {2:.4f}'\n",
    "                  .format(iter+1, error(X_train, C, W), error(X_test, C, W)))\n",
    "    \n",
    "    if count_time:\n",
    "        print('Elapsed time: {0:.2f} s'.format(time.time() - t_start))\n",
    "\n",
    "    return C, W"
   ]
  },
  {
   "cell_type": "markdown",
   "metadata": {},
   "source": [
    "Train the model."
   ]
  },
  {
   "cell_type": "code",
   "execution_count": 8,
   "metadata": {},
   "outputs": [
    {
     "name": "stdout",
     "output_type": "stream",
     "text": [
      "Iteration 10: Training MSE: 0.0143, Testing MSE: 0.0024\n",
      "Iteration 20: Training MSE: 0.0100, Testing MSE: 0.0024\n",
      "Iteration 30: Training MSE: 0.0100, Testing MSE: 0.0024\n",
      "Iteration 40: Training MSE: 0.0100, Testing MSE: 0.0024\n",
      "Iteration 50: Training MSE: 0.0100, Testing MSE: 0.0024\n",
      "Elapsed time: 43.36 s\n"
     ]
    }
   ],
   "source": [
    "C, W = matrix_complete(X_train, X_test, 5, lam=10, maxiter=50, count_time=True, print_iter=True)"
   ]
  },
  {
   "cell_type": "markdown",
   "metadata": {},
   "source": [
    "## Make recommendations "
   ]
  },
  {
   "cell_type": "markdown",
   "metadata": {},
   "source": [
    "Movie recommendations are made to each user based on the highest value of the user's estimated rating activity over the movies he/she has not watched."
   ]
  },
  {
   "cell_type": "code",
   "execution_count": 9,
   "metadata": {},
   "outputs": [],
   "source": [
    "def recommend(X, C, W, movie_name):\n",
    "    \"\"\" Return a list of movies. The ith element in the list is the movie recommended for the ith user.\n",
    "    \n",
    "    X -- N x P observed rating matrix used for training\n",
    "    C -- N x K matrix (2D array) from matrix factorization from trained model\n",
    "    W -- P x K matrix (2D array) from matrix factorization from trained model\n",
    "    movie_name -- a list of movie names\n",
    "    \"\"\"\n",
    "    # estimated rating matrix\n",
    "    X_est = np.matmul(C, W)\n",
    "    \n",
    "    # define a masked array of X_est to prevent recommending movies users already watched\n",
    "    watched = np.zeros(X.shape, dtype=bool)\n",
    "    watched[np.where(X != 0)] = True  # spot the rated movies\n",
    "    X_masked = np.ma.masked_array(X_est, mask=watched)\n",
    "    \n",
    "    # list of recommendations\n",
    "    movie_list_rec = [movie_name[i] for i in X_masked.argmax(axis=0)]\n",
    "\n",
    "    return movie_list_rec"
   ]
  },
  {
   "cell_type": "markdown",
   "metadata": {},
   "source": [
    "Ready to make recommendations."
   ]
  },
  {
   "cell_type": "code",
   "execution_count": 10,
   "metadata": {},
   "outputs": [
    {
     "name": "stdout",
     "output_type": "stream",
     "text": [
      "The movie recommended for the first 10 users: ['Patton (1970)', 'Pulp Fiction (1994)', 'Pulp Fiction (1994)', 'Patton (1970)', 'Silence of the Lambs, The (1991)', 'Cinema Paradiso (Nuovo cinema Paradiso) (1989)', 'Shawshank Redemption, The (1994)', 'Matrix, The (1999)', 'Pulp Fiction (1994)', 'Cinema Paradiso (Nuovo cinema Paradiso) (1989)']\n"
     ]
    }
   ],
   "source": [
    "movie_list_rec = recommend(X_train, C, W, movie_name)\n",
    "print('The movie recommended for the first 10 users: {0}'.format(movie_list_rec[0:10]))"
   ]
  },
  {
   "cell_type": "markdown",
   "metadata": {},
   "source": [
    "# 3 Application"
   ]
  },
  {
   "cell_type": "markdown",
   "metadata": {},
   "source": [
    "Here, a python GUI application is developed by Tkinter. The user is first asked to rate a list of randomly selected movies. Then the input rating activity will be appended to the $X$ rating matrix obtained before from the MovieLens dataset. With the new $X$ matrix, the model will be trained again. After training, the last movie in the movie_list_rec will be the recommended movie for the new user. Finally, the app will display the movie which is tailored to the user's taste. Relevant codes are in the Appendix.\n",
    "\n",
    "The Youtube video inclues a short demo of this app: https://youtu.be/anGgSRu01nY"
   ]
  },
  {
   "cell_type": "markdown",
   "metadata": {},
   "source": [
    "# 4 References"
   ]
  },
  {
   "cell_type": "markdown",
   "metadata": {},
   "source": [
    "[1] Wikipedia contributors. (2019, October 31). Collaborative filtering. In Wikipedia, The Free Encyclopedia. Retrieved 22:54, December 1, 2019, from https://en.wikipedia.org/w/index.php?title=Collaborative_filtering&oldid=923933501 <br>\n",
    "\n",
    "[2] Jeremy Watt, Reza Borhani, Aggelos K. Katsaggelos, Machine Learning Refined: Foundations, Algorithms, and Applications, Cambridge University Press, New York, NY, 2016"
   ]
  },
  {
   "cell_type": "markdown",
   "metadata": {},
   "source": [
    "# Appendix"
   ]
  },
  {
   "cell_type": "markdown",
   "metadata": {},
   "source": [
    "Codes used to develop the python GUI."
   ]
  },
  {
   "cell_type": "markdown",
   "metadata": {},
   "source": [
    "https://www.datacamp.com/community/tutorials/gui-tkinter-python#ITT"
   ]
  },
  {
   "cell_type": "code",
   "execution_count": 11,
   "metadata": {},
   "outputs": [],
   "source": [
    "import os\n",
    "import re\n",
    "from collections import OrderedDict\n",
    "import tkinter as tk\n",
    "from tkinter import ttk\n",
    "from PIL import Image, ImageTk\n",
    "import cv2\n",
    "from threading import Thread\n",
    "from google_images_download import google_images_download as google_image"
   ]
  },
  {
   "cell_type": "code",
   "execution_count": 12,
   "metadata": {},
   "outputs": [],
   "source": [
    "class MyVideoCapture:\n",
    "    \n",
    "    def __init__(self, video_source=0):\n",
    "        # Open the video source\n",
    "        self.vid = cv2.VideoCapture(video_source)\n",
    "        if not self.vid.isOpened():\n",
    "            raise ValueError(\"Unable to open video source\", video_source)\n",
    "        # Get video source width and height\n",
    "        self.width = self.vid.get(cv2.CAP_PROP_FRAME_WIDTH)\n",
    "        self.height = self.vid.get(cv2.CAP_PROP_FRAME_HEIGHT)\n",
    "\n",
    "    def get_frame(self, loop=True):\n",
    "        if self.vid.isOpened():\n",
    "            ret, frame = self.vid.read()\n",
    "            if ret:\n",
    "                # Return a boolean success flag and the current frame converted to BGR\n",
    "                return (ret, cv2.cvtColor(frame, cv2.COLOR_BGR2RGB))\n",
    "            else:\n",
    "                if loop:\n",
    "                    self.vid.set(cv2.CAP_PROP_POS_FRAMES, 0)\n",
    "                    ret, frame = self.vid.read()\n",
    "                    return (ret, frame)\n",
    "                \n",
    "                return (ret, None)\n",
    "        else:\n",
    "            return (False, None)\n",
    "\n",
    "    # Release the video source when the object is destroyed\n",
    "    def __del__(self):\n",
    "        if self.vid.isOpened():\n",
    "            self.vid.release()"
   ]
  },
  {
   "cell_type": "code",
   "execution_count": 13,
   "metadata": {},
   "outputs": [],
   "source": [
    "class VideoCanvas(tk.Canvas):\n",
    "    \n",
    "    def __init__(self, master, framerate=25, **kwargs):\n",
    "        super(VideoCanvas, self).__init__(master, **kwargs)\n",
    "        self._playing = False\n",
    "        self._src = None\n",
    "        self._framerate = framerate\n",
    "        self._frame = None\n",
    "\n",
    "    @property\n",
    "    def is_playing(self):\n",
    "        return self._playing\n",
    "\n",
    "    def set_source(self, path):\n",
    "        self._src = MyVideoCapture(path)\n",
    "\n",
    "    def play(self):\n",
    "        if not self._src:\n",
    "            raise ValueError('Call set_source() first')\n",
    "        self._playing = True\n",
    "        self._update()\n",
    "\n",
    "    def stop(self):\n",
    "        self._playing = False\n",
    "        self._src = None\n",
    "\n",
    "    def _update(self):\n",
    "        if not self._playing:\n",
    "            return\n",
    "\n",
    "        ok, frame = self._src.get_frame()\n",
    "        if ok:\n",
    "            self._frame = ImageTk.PhotoImage(image=Image.fromarray(frame))\n",
    "            self.create_image(0, 0, image=self._frame, anchor=tk.NW)\n",
    "            # Call this function again after a short delay\n",
    "            self.master.after(1000 // self._framerate, self._update)\n",
    "        else:\n",
    "            self._playing = False"
   ]
  },
  {
   "cell_type": "code",
   "execution_count": 14,
   "metadata": {},
   "outputs": [],
   "source": [
    "class MovieGui(tk.Frame):\n",
    "    \n",
    "    def __init__(self, parent, *args, **kwargs):\n",
    "        tk.Frame.__init__(self, parent, *args, **kwargs)\n",
    "        \n",
    "        self.movie_db = pd.read_csv(\"ml-latest-small/movies.csv\")\n",
    "        self.ratings_db = pd.read_csv(\"ml-latest-small/ratings.csv\")\n",
    "\n",
    "        # Divides into a left and right panel\n",
    "        self._master_panels = tk.PanedWindow(parent)\n",
    "        self._master_panels.pack(fill=tk.BOTH, expand=True)\n",
    "\n",
    "        # LEFT PANEL: rate movies\n",
    "        self._left_frame = tk.Frame(parent)\n",
    "        self._left_frame.pack(fill=tk.BOTH, expand=True)\n",
    "        self._master_panels.add(self._left_frame, width=500)\n",
    "\n",
    "        # Scrollable area (only canvas is scrollable)\n",
    "        self._rating_canvas = tk.Canvas(self._left_frame)\n",
    "        self._rating_canvas.pack(side=tk.LEFT, fill=tk.BOTH, expand=True)\n",
    "        self._rating_scroll = tk.Scrollbar(self._left_frame, orient=tk.VERTICAL, command=self._rating_canvas.yview)\n",
    "        self._rating_scroll.pack(side=tk.RIGHT, fill=tk.Y)\n",
    "        self._rating_canvas.configure(yscrollcommand=self._rating_scroll.set)\n",
    "\n",
    "        # Container for the movies to rate\n",
    "        self._movie_frame = tk.Frame(self._rating_canvas)\n",
    "        # tk.Button(movie_frame, Update, command=update_ratings_list).pack()\n",
    "        self._movie_frame.pack(fill=tk.BOTH, expand=True)\n",
    "        self._movie_frame.columnconfigure(2, weight=1)\n",
    "        tk.Label(parent,\n",
    "                 text='Please rate movies you have seen on a scale from 1-5 (0 if you have not seen the movie).\\n'\n",
    "                      'When you are done, hit the \"Recommend\" button on the right!').pack(fill=tk.BOTH, expand=True)\n",
    "        self._ratings_data = OrderedDict()\n",
    "\n",
    "        # Create the movie rows\n",
    "        for idx, (mid, movie) in enumerate(get_random_movies(self.movie_db)):\n",
    "            # Movie image\n",
    "            data = {}\n",
    "            img_path = get_image(movie)\n",
    "            if img_path:\n",
    "                img = Image.open(img_path).resize((60, 80))\n",
    "                img = ImageTk.PhotoImage(img)\n",
    "                # Images must be stored somewhere or they will be garbage collected\n",
    "                img_lbl = tk.Label(self._movie_frame, image=img)\n",
    "                img_lbl._movie_image = img\n",
    "                img_lbl.grid(row=idx, column=0)\n",
    "\n",
    "            # Movie title\n",
    "            tk.Label(self._movie_frame, text=movie).grid(row=idx, column=1)\n",
    "\n",
    "            # Slider and number input\n",
    "            rating = tk.StringVar(0)\n",
    "            data['rating'] = rating\n",
    "            tk.Scale(self._movie_frame, from_=0, to=5, orient=tk.HORIZONTAL, variable=rating, showvalue=False)\\\n",
    "            .grid(row=idx, column=2)\n",
    "            tk.Spinbox(self._movie_frame, from_=0, to=5, textvariable=rating, width=3).grid(row=idx, column=3)\n",
    "\n",
    "            data['id'] = mid\n",
    "            self._ratings_data[movie] = data\n",
    "\n",
    "        self._rating_canvas.create_window((0, 0), window=self._movie_frame, anchor=tk.NW)\n",
    "\n",
    "        # RIGHT PANEL: top: get recommendation; bottom: show movie playing\n",
    "        self._right_panels = tk.PanedWindow(parent, orient=tk.VERTICAL)\n",
    "        self._master_panels.add(self._right_panels)\n",
    "\n",
    "        self._rec_frame = tk.Frame(parent)\n",
    "        self._rec_frame.pack(fill=tk.BOTH, expand=True)\n",
    "        self._recommendation_img_lbl = tk.Label(self._rec_frame)\n",
    "        self._recommendation_img_lbl.pack(fill=tk.BOTH, expand=True)\n",
    "        self._recommendation_lbl = tk.Label(self._rec_frame)\n",
    "        self._recommendation_lbl.pack(fill=tk.X, expand=True)\n",
    "        self._rec_button = tk.Button(self._rec_frame, text='What should I watch?', command=self._get_recommendation)\n",
    "        self._rec_button.pack()\n",
    "        self._progress = ttk.Progressbar(self._rec_frame, orient=tk.HORIZONTAL, mode='indeterminate')\n",
    "        self._progress.pack(fill=tk.X, expand=True)\n",
    "        ttk.Separator(self._rec_frame).pack(fill=tk.X, expand=True)\n",
    "        self._right_panels.add(self._rec_frame, height=400)\n",
    "\n",
    "        self._video_frame = tk.Frame(self._right_panels)\n",
    "        self._video_frame.pack(fill=tk.BOTH, expand=True)\n",
    "        self._video_canvas = VideoCanvas(self._video_frame, width=300, height=200)\n",
    "        self._video_canvas.pack(fill=tk.BOTH, expand=True)\n",
    "        self._play_button = tk.Button(self._video_frame, text='Play/Pause', command=self.toggle_video)\n",
    "        self._play_button.pack(side=tk.LEFT)\n",
    "        self._right_panels.add(self._video_frame, height=200)\n",
    "\n",
    "    def play_video(self, source='Christmas.mp4'):\n",
    "        self._video_canvas.set_source(source)\n",
    "        self._video_canvas.play()\n",
    "\n",
    "    def toggle_video(self):\n",
    "        if self._video_canvas.is_playing:\n",
    "            self._video_canvas.stop()\n",
    "        else:\n",
    "            self.play_video()\n",
    "\n",
    "    def get_user_ratings(self):\n",
    "        movies = []\n",
    "        ratings = []\n",
    "        for movie, data in self._ratings_data.items():\n",
    "            rating = int(data['rating'].get())\n",
    "            ratings.append(rating)\n",
    "            movies.append(movie)\n",
    "        return (movies, ratings)\n",
    "\n",
    "    def _update_recommendation(self, movie):\n",
    "        path = get_image(movie)\n",
    "        img = ImageTk.PhotoImage(Image.open(path).resize((200, 300)))\n",
    "        self._recommendation_img_lbl._movie_img = img\n",
    "        self._recommendation_img_lbl.configure(image=img)\n",
    "        self._recommendation_lbl.configure(text=movie)\n",
    "        self._rec_button.configure(state=tk.NORMAL)\n",
    "        self._progress.stop()\n",
    "\n",
    "    def _get_recommendation(self):\n",
    "        self._rec_button.config(state=tk.DISABLED)\n",
    "        self._progress.start()\n",
    "        self._worker = Thread(target=self._do_matrix_complete)\n",
    "        self._worker.start()\n",
    "        \n",
    "    def _do_matrix_complete(self):\n",
    "        user_id = max(self.ratings_db['userId']) + 1\n",
    "        movies, ratings = self.get_user_ratings()\n",
    "        ratings = [float(r) for r in ratings]\n",
    "        movie_ids = [self._ratings_data[m]['id'] for m in movies]\n",
    "        \n",
    "        new_entry = {'userId': [user_id] * len(movies), \n",
    "                     'movieId': movie_ids, \n",
    "                     'rating': ratings, \n",
    "                     'timestamp': [0] * len(movies)}\n",
    "        df = pd.DataFrame(data=new_entry)\n",
    "        \n",
    "        new_ratings = self.ratings_db.append(df, ignore_index=True)\n",
    "        X_train_new, X_test_new, movie_name = split(self.movie_db, new_ratings, 10)\n",
    "        C_new, W_new = matrix_complete(X_train_new, X_test_new, 5, lam=5, maxiter=20, print_iter=False)\n",
    "        recommendations = recommend(X_train_new, C_new, W_new, movie_name)\n",
    "        \n",
    "        rec = random.choice(recommendations)\n",
    "        print('New recommendation: ' + str(rec))\n",
    "        \n",
    "        # Call this on the GUI thread\n",
    "        self.master.after(0, self._update_recommendation, rec)"
   ]
  },
  {
   "cell_type": "code",
   "execution_count": 15,
   "metadata": {},
   "outputs": [],
   "source": [
    "def get_random_movies(movies, num=8):\n",
    "    indices = np.random.randint(0, len(movies), num)\n",
    "    ret = []\n",
    "    for m in indices:\n",
    "        name = movies.loc[m][1]\n",
    "        mid = movies.loc[m][0]\n",
    "        ret.append((mid, name))\n",
    "    return ret"
   ]
  },
  {
   "cell_type": "code",
   "execution_count": 16,
   "metadata": {},
   "outputs": [],
   "source": [
    "def get_image(movie):\n",
    "    \n",
    "    path = None\n",
    "    key = ''.join(filter(lambda c: re.match('[a-zA-Z0-9 _-]', c), movie))\n",
    "    cache_root = './downloads/' + key\n",
    "    if os.path.exists(cache_root):\n",
    "        try:\n",
    "            paths = os.listdir(cache_root)\n",
    "            path = cache_root + '/' + next(iter(paths))\n",
    "        except StopIteration:\n",
    "            path = None\n",
    "\n",
    "    if not path:\n",
    "        res = google_image.googleimagesdownload()\n",
    "        paths = res.download(dict(limit=1, keywords=key))\n",
    "        if paths:\n",
    "            path = paths[0][key]\n",
    "            if path and os.path.exists(path[0]):\n",
    "                path = path[0]\n",
    "\n",
    "    print(path)\n",
    "    return path"
   ]
  },
  {
   "cell_type": "code",
   "execution_count": 17,
   "metadata": {},
   "outputs": [],
   "source": [
    "def clear_image_cache():\n",
    "    import shutil\n",
    "    try:\n",
    "        shutil.rmtree('./downloads')\n",
    "    except FileNotFoundError:\n",
    "        pass"
   ]
  },
  {
   "cell_type": "markdown",
   "metadata": {},
   "source": [
    "Let's find the best movie for you!"
   ]
  },
  {
   "cell_type": "code",
   "execution_count": 18,
   "metadata": {},
   "outputs": [
    {
     "name": "stdout",
     "output_type": "stream",
     "text": [
      "\n",
      "Item no.: 1 --> Item name = Beneath the Planet of the Apes 1970\n",
      "Evaluating...\n",
      "Starting Download...\n",
      "Completed Image ====> 1.MV5BMjljYjY0MDktZjdlNC00ZTAxLTkzM2ItM2JjZjQ3YzQ0NzJiL2ltYWdlL2ltYWdlXkEyXkFqcGdeQXVyNjc1NTYyMjg@._V1_.jpg\n",
      "\n",
      "Errors: 0\n",
      "\n",
      "/Users/aaple/PycharmProjects/Fangjun_final_project/downloads/Beneath the Planet of the Apes 1970/1.MV5BMjljYjY0MDktZjdlNC00ZTAxLTkzM2ItM2JjZjQ3YzQ0NzJiL2ltYWdlL2ltYWdlXkEyXkFqcGdeQXVyNjc1NTYyMjg@._V1_.jpg\n",
      "\n",
      "Item no.: 1 --> Item name = The Last Witch Hunter 2015\n",
      "Evaluating...\n",
      "Starting Download...\n",
      "Completed Image ====> 1.MV5BMjM5Njk5MzYzM15BMl5BanBnXkFtZTgwNzM1Mjk4NjE@._V1_.jpg\n",
      "\n",
      "Errors: 0\n",
      "\n",
      "/Users/aaple/PycharmProjects/Fangjun_final_project/downloads/The Last Witch Hunter 2015/1.MV5BMjM5Njk5MzYzM15BMl5BanBnXkFtZTgwNzM1Mjk4NjE@._V1_.jpg\n",
      "\n",
      "Item no.: 1 --> Item name = Buffalo Soldiers 2001\n",
      "Evaluating...\n",
      "Starting Download...\n",
      "Completed Image ====> 1.Buffalo_Soldiers_film_poster.jpg\n",
      "\n",
      "Errors: 0\n",
      "\n",
      "/Users/aaple/PycharmProjects/Fangjun_final_project/downloads/Buffalo Soldiers 2001/1.Buffalo_Soldiers_film_poster.jpg\n",
      "\n",
      "Item no.: 1 --> Item name = Ted 2 2015\n",
      "Evaluating...\n",
      "Starting Download...\n",
      "Completed Image ====> 1.MV5BMjEwMDg3MDk1NF5BMl5BanBnXkFtZTgwNjYyODA1NTE@._V1_.jpg\n",
      "\n",
      "Errors: 0\n",
      "\n",
      "/Users/aaple/PycharmProjects/Fangjun_final_project/downloads/Ted 2 2015/1.MV5BMjEwMDg3MDk1NF5BMl5BanBnXkFtZTgwNjYyODA1NTE@._V1_.jpg\n",
      "\n",
      "Item no.: 1 --> Item name = Observe and Report 2009\n",
      "Evaluating...\n",
      "Starting Download...\n",
      "Completed Image ====> 1.MV5BMjA2MzMzODExOF5BMl5BanBnXkFtZTcwMjkzNzA0Mg@@._V1_UY268_CR3,0,182,268_AL_.jpg\n",
      "\n",
      "Errors: 0\n",
      "\n",
      "/Users/aaple/PycharmProjects/Fangjun_final_project/downloads/Observe and Report 2009/1.MV5BMjA2MzMzODExOF5BMl5BanBnXkFtZTcwMjkzNzA0Mg@@._V1_UY268_CR3,0,182,268_AL_.jpg\n",
      "\n",
      "Item no.: 1 --> Item name = Chopper Chicks in Zombietown 1989\n",
      "Evaluating...\n",
      "Starting Download...\n",
      "Completed Image ====> 1.MV5BODc4NjljMWUtYmJhZS00NDMyLWI1MGYtMDY4M2RkMzU5MWI1XkEyXkFqcGdeQXVyMTQxNzMzNDI@._V1_.jpg\n",
      "\n",
      "Errors: 0\n",
      "\n",
      "/Users/aaple/PycharmProjects/Fangjun_final_project/downloads/Chopper Chicks in Zombietown 1989/1.MV5BODc4NjljMWUtYmJhZS00NDMyLWI1MGYtMDY4M2RkMzU5MWI1XkEyXkFqcGdeQXVyMTQxNzMzNDI@._V1_.jpg\n",
      "\n",
      "Item no.: 1 --> Item name = Caligula 1979\n",
      "Evaluating...\n",
      "Starting Download...\n",
      "Completed Image ====> 1.Caligula.jpg\n",
      "\n",
      "Errors: 0\n",
      "\n",
      "/Users/aaple/PycharmProjects/Fangjun_final_project/downloads/Caligula 1979/1.Caligula.jpg\n",
      "\n",
      "Item no.: 1 --> Item name = Predestination 2014\n",
      "Evaluating...\n",
      "Starting Download...\n",
      "Completed Image ====> 1.MV5BMTAzODc3NjU1NzNeQTJeQWpwZ15BbWU4MDk5NTQ4NTMx._V1_.jpg\n",
      "\n",
      "Errors: 0\n",
      "\n",
      "/Users/aaple/PycharmProjects/Fangjun_final_project/downloads/Predestination 2014/1.MV5BMTAzODc3NjU1NzNeQTJeQWpwZ15BbWU4MDk5NTQ4NTMx._V1_.jpg\n"
     ]
    },
    {
     "name": "stderr",
     "output_type": "stream",
     "text": [
      "/Users/aaple/anaconda3/lib/python3.7/site-packages/PIL/Image.py:2731: DecompressionBombWarning: Image size (100419400 pixels) exceeds limit of 89478485 pixels, could be decompression bomb DOS attack.\n",
      "  DecompressionBombWarning,\n"
     ]
    },
    {
     "name": "stdout",
     "output_type": "stream",
     "text": [
      "Elapsed time: 44.84 s\n",
      "New recommendation: Inside Job (2010)\n",
      "\n",
      "Item no.: 1 --> Item name = Inside Job 2010\n",
      "Evaluating...\n",
      "Starting Download...\n",
      "Completed Image ====> 1.MV5BMTQ3MjkyODA2Nl5BMl5BanBnXkFtZTcwNzQxMTU4Mw@@._V1_.jpg\n",
      "\n",
      "Errors: 0\n",
      "\n",
      "/Users/aaple/PycharmProjects/Fangjun_final_project/downloads/Inside Job 2010/1.MV5BMTQ3MjkyODA2Nl5BMl5BanBnXkFtZTcwNzQxMTU4Mw@@._V1_.jpg\n"
     ]
    }
   ],
   "source": [
    "clear_image_cache()\n",
    "root = tk.Toplevel()\n",
    "root.geometry('1200x800')\n",
    "root.title('Movie Recommendation')\n",
    "gui = MovieGui(root)\n",
    "root.mainloop()"
   ]
  },
  {
   "cell_type": "code",
   "execution_count": null,
   "metadata": {},
   "outputs": [],
   "source": []
  },
  {
   "cell_type": "code",
   "execution_count": null,
   "metadata": {},
   "outputs": [],
   "source": []
  }
 ],
 "metadata": {
  "kernelspec": {
   "display_name": "Python 3",
   "language": "python",
   "name": "python3"
  },
  "language_info": {
   "codemirror_mode": {
    "name": "ipython",
    "version": 3
   },
   "file_extension": ".py",
   "mimetype": "text/x-python",
   "name": "python",
   "nbconvert_exporter": "python",
   "pygments_lexer": "ipython3",
   "version": "3.7.5"
  }
 },
 "nbformat": 4,
 "nbformat_minor": 2
}
